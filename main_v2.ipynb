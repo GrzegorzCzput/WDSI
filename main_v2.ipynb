{
 "cells": [
  {
   "cell_type": "code",
   "execution_count": null,
   "metadata": {},
   "outputs": [],
   "source": [
    "import torch\n",
    "import os \n",
    "import random\n",
    "import shutil\n",
    "import xml.etree.ElementTree as ET\n",
    "\n",
    "\n",
    "from sklearn.model_selection import train_test_split\n",
    "from xml.dom import minidom\n",
    "from tqdm import tqdm"
   ]
  },
  {
   "cell_type": "code",
   "execution_count": 2,
   "metadata": {},
   "outputs": [],
   "source": [
    "def xml2dic(xml_file):\n",
    "    data = ET.parse(xml_file).getroot()\n",
    "    # print(\"data\")\n",
    "\n",
    "    data_dict = {}\n",
    "    data_dict['bounding_box'] = []\n",
    "\n",
    "    for elem in data:\n",
    "        if elem.tag == \"filename\":\n",
    "            data_dict['filename'] = elem.text\n",
    "        elif elem.tag == \"size\":\n",
    "            image_size = []\n",
    "            for subelem in elem:\n",
    "                image_size.append(int(subelem.text))\n",
    "            data_dict['image_size'] = tuple(image_size)\n",
    "        elif elem.tag == \"object\":\n",
    "            bb = {}\n",
    "            for subelem in elem:\n",
    "                if subelem.tag == \"name\":\n",
    "                    bb[\"class\"] = subelem.text\n",
    "                elif subelem.tag == \"bndbox\":\n",
    "                    for subsubelem in subelem:\n",
    "                        bb[subsubelem.tag] = int(subsubelem.text)            \n",
    "            data_dict['bounding_box'].append(bb)\n",
    "    \n",
    "    return data_dict"
   ]
  },
  {
   "cell_type": "code",
   "execution_count": null,
   "metadata": {},
   "outputs": [],
   "source": [
    "# import pandas\n",
    "# pandas.DataFrame(xml2dic('Road_Sign_Dataset/annotations/road8.xml'))"
   ]
  },
  {
   "cell_type": "code",
   "execution_count": 4,
   "metadata": {},
   "outputs": [],
   "source": [
    "import shutil\n",
    "\n",
    "class_dict = {\"crosswalk\": 0}\n",
    "\n",
    "def dict2yolo(data_dict):\n",
    "    # print_buffer = []\n",
    "\n",
    "    for b in data_dict[\"bounding_box\"]:\n",
    "        if b[\"class\"] ==  'crosswalk':\n",
    "            class_id = class_dict[b[\"class\"]]\n",
    "\n",
    "            center_x = (b[\"xmin\"] + b[\"xmax\"]) / 2 \n",
    "            center_y = (b[\"ymin\"] + b[\"ymax\"]) / 2\n",
    "            width    = (b[\"xmax\"] - b[\"xmin\"])\n",
    "            height   = (b[\"ymax\"] - b[\"ymin\"])\n",
    "            \n",
    "            img_w, img_h, img_depth = data_dict[\"image_size\"]  \n",
    "            center_x = center_x / img_w \n",
    "            center_y = center_y / img_h \n",
    "            width    = width / img_w \n",
    "            height   = height / img_h \n",
    "            \n",
    "            print_buffer = []\n",
    "            print_buffer.append(\"{} {:.3f} {:.3f} {:.3f} {:.3f}\".format(class_id, center_x, center_y, width, height))  \n",
    "            save_file_name = os.path.join(\"Road_Sign_Dataset/labels\", data_dict[\"filename\"].replace(\"png\", \"txt\"))\n",
    "            print(\"\\n\".join(print_buffer), file= open(save_file_name, \"w\"))\n",
    "\n",
    "            img_path = os.path.join(\"images\", data_dict[\"filename\"])\n",
    "            src = os.path.abspath(img_path)\n",
    "\n",
    "            img_path = os.path.join(\"Road_Sign_Dataset/images\", data_dict[\"filename\"])\n",
    "            dst = os.path.abspath(img_path)\n",
    "\n",
    "            shutil.copyfile(src, dst)\n",
    "        # else:\n",
    "        #     xml_name = data_dict[\"filename\"][0:-3] + 'xml'\n",
    "\n",
    "        #     ano_path = os.path.join(\"Road_Sign_Dataset/annotations\", xml_name)\n",
    "        #     img_path = os.path.join(\"Road_Sign_Dataset/images\", data_dict[\"filename\"])\n",
    "\n",
    "        #     ano_abs_path = os.path.abspath(ano_path)\n",
    "        #     img_abs_path = os.path.abspath(img_path)\n",
    "\n",
    "        #     os.remove(ano_abs_path) \n",
    "        #     os.remove(img_abs_path) \n",
    "\n",
    "        \n",
    "    # save_file_name = os.path.join(\"Road_Sign_Dataset/annotations\", data_dict[\"filename\"].replace(\"png\", \"txt\"))\n",
    "    # print(\"\\n\".join(print_buffer), file= open(save_file_name, \"w\"))\n"
   ]
  },
  {
   "cell_type": "code",
   "execution_count": 5,
   "metadata": {},
   "outputs": [
    {
     "data": {
      "text/plain": [
       "'/home/grzegorz/Documents/Politechnika/Semestr_5/WDSI/projekt_V2/Road_Sign_Dataset/images/road147.png'"
      ]
     },
     "execution_count": 5,
     "metadata": {},
     "output_type": "execute_result"
    }
   ],
   "source": [
    "\n",
    "ano_path = os.path.join(\"annotations\", 'road147.xml')\n",
    "img_path = os.path.join(\"images\", 'road147.png')\n",
    "os.path.abspath(img_path)"
   ]
  },
  {
   "cell_type": "code",
   "execution_count": 14,
   "metadata": {},
   "outputs": [
    {
     "name": "stderr",
     "output_type": "stream",
     "text": [
      "100%|██████████| 877/877 [00:00<00:00, 4881.34it/s]\n"
     ]
    }
   ],
   "source": [
    "ann_list = []\n",
    "\n",
    "for ann in os.listdir('annotations'):\n",
    "    if ann[-3:] == \"xml\":\n",
    "        ann_list.append(ann)\n",
    "\n",
    "\n",
    "annotations = [os.path.join('annotations', x) for x in os.listdir('annotations') if x[-3:] == \"xml\"]\n",
    "annotations.sort()\n",
    "\n",
    "for ann in tqdm(annotations):\n",
    "    info_dict = xml2dic(ann)\n",
    "    dict2yolo(info_dict)\n",
    "\n",
    "annotations = [os.path.join('Road_Sign_Dataset/labels', x) for x in os.listdir('Road_Sign_Dataset/labels') if x[-3:] == \"txt\"]"
   ]
  },
  {
   "cell_type": "code",
   "execution_count": 18,
   "metadata": {},
   "outputs": [],
   "source": [
    "images = [os.path.join('Road_Sign_Dataset/images', x) for x in os.listdir('Road_Sign_Dataset/images')]\n",
    "labels = [os.path.join('Road_Sign_Dataset/labels', x) for x in os.listdir('Road_Sign_Dataset/labels') if x[-3:] == \"txt\"]\n",
    "\n",
    "images.sort()\n",
    "labels.sort()\n",
    "\n",
    "\n",
    "train_images, val_images, train_annotations, val_annotations = train_test_split(images, labels, test_size = 0.2, random_state = 1)\n",
    "val_images, test_images, val_annotations, test_annotations = train_test_split(val_images, val_annotations, test_size = 0.5, random_state = 1)"
   ]
  },
  {
   "cell_type": "code",
   "execution_count": null,
   "metadata": {},
   "outputs": [],
   "source": [
    "!mkdir images/train images/val images/test labels/train labels/val labels/test"
   ]
  },
  {
   "cell_type": "code",
   "execution_count": 13,
   "metadata": {},
   "outputs": [],
   "source": [
    "def move_files_to_folder(list_of_files, destination_folder):\n",
    "    for f in list_of_files:\n",
    "        shutil.move(f, destination_folder)\n",
    "\n",
    "move_files_to_folder(train_images, 'Road_Sign_Dataset/images/train')\n",
    "move_files_to_folder(val_images, 'Road_Sign_Dataset/images/val/')\n",
    "move_files_to_folder(test_images, 'Road_Sign_Dataset/images/test/')\n",
    "move_files_to_folder(train_annotations, 'Road_Sign_Dataset/labels/train/')\n",
    "move_files_to_folder(val_annotations, 'Road_Sign_Dataset/labels/val/')\n",
    "move_files_to_folder(test_annotations, 'Road_Sign_Dataset/labels/test/')"
   ]
  },
  {
   "cell_type": "code",
   "execution_count": null,
   "metadata": {},
   "outputs": [],
   "source": [
    "# python3 train.py --img 120 --cfg yolov5s.yaml --hyp hyp.scratch.yaml --batch 12 --epochs 15 --data road_sign_data.yaml --weights yolov5s.pt --workers 24 --name yolo_road_det"
   ]
  },
  {
   "cell_type": "code",
   "execution_count": null,
   "metadata": {},
   "outputs": [],
   "source": [
    "# python3 detect.py --source ../Road_Sign_Dataset/images/test/ --weights runs/train/yolo_road_det25/weights/best.pt --conf 0.25 --name yolo_road_det --nosave \n"
   ]
  }
 ],
 "metadata": {
  "interpreter": {
   "hash": "31f2aee4e71d21fbe5cf8b01ff0e069b9275f58929596ceb00d14d90e3e16cd6"
  },
  "kernelspec": {
   "display_name": "Python 3.8.10 64-bit",
   "language": "python",
   "name": "python3"
  },
  "language_info": {
   "codemirror_mode": {
    "name": "ipython",
    "version": 3
   },
   "file_extension": ".py",
   "mimetype": "text/x-python",
   "name": "python",
   "nbconvert_exporter": "python",
   "pygments_lexer": "ipython3",
   "version": "3.8.10"
  },
  "orig_nbformat": 4
 },
 "nbformat": 4,
 "nbformat_minor": 2
}
